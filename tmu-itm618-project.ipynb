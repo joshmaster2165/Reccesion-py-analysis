{
 "cells": [
  {
   "cell_type": "markdown",
   "id": "06959869",
   "metadata": {},
   "source": [
    "### TMU ITM618 Fall 2022 - Group Project"
   ]
  },
  {
   "cell_type": "markdown",
   "id": "5d3695d4",
   "metadata": {},
   "source": [
    "Your task is to develop a series of research hypotheses to predict recession based on theory or past empirical evidence and then apply some of the techniques covered in class to such data for testing.\n",
    "\n",
    "Smoothed recession probabilities for the United States are obtained from a dynamic-factor Markov-switching model applied to four monthly coincident variables: non-farm payroll employment, the index of industrial production, real personal income excluding transfer payments, and real manufacturing and trade sales.\n",
    "\n",
    "You can use the 10 Year-3 Month Treasury Yield Spread, which is the difference between the ten-year treasury rate and the three-month treasury rate. This spread is widely used as a gauge to study the yield curve. A 10-year-3-month treasury spread that approaches 0 signifies a \"flattening\" yield curve. Furthermore, a negative 10-year-3-month spread has historically been viewed as a precursor or predictor of a recessionary period. The New York Fed uses the rate in a model to predict recessions 2 to 6 quarters ahead."
   ]
  },
  {
   "cell_type": "markdown",
   "id": "1a440c02",
   "metadata": {},
   "source": [
    "### Data Set"
   ]
  },
  {
   "cell_type": "markdown",
   "id": "bb8ee616",
   "metadata": {},
   "source": [
    "Students are encouraged to collect data by themselves. Students can collect data from any sources\n",
    "such as the following, but not limit to:\n",
    "* TMU Library\n",
    "* Yahoo Finance\n",
    "* Or any other source"
   ]
  },
  {
   "cell_type": "markdown",
   "id": "98f5d836",
   "metadata": {},
   "source": [
    "### Analysis and Report"
   ]
  },
  {
   "cell_type": "markdown",
   "id": "e3e0b334",
   "metadata": {},
   "source": [
    "Students should work closely in a group on data collection, data analysis and result interpretation, report writing, etc. In the project report, students are supposed to describe the results and conclusion of their analysis. Keep in mind that plots, tables and other visual representations of data are useful in conveying your conclusions. In addition, you may want to include the following parts in your reports.\n",
    "\n",
    "Questions/Hypotheses: Write one or multiple questions or hypotheses you want to explore with the data sets. After each question, state your expected answers, which may be different from your data analysis because you have not yet analyzed the data.\n",
    "\n",
    "Data Description: Describe the data sets. What is the data, e.g., variables and results? How was the data collected? Briefly summarize the data. Provide the URL link if available.\n",
    "\n",
    "Methodologies: Write a complete, clear description of the analysis you performed. This should be sufficient for someone else to write an R program to reproduce your results. It should also likely be helpful to people who read your code later. This section should tie your computations to your questions/hypotheses, indicating exactly what results would lead you to what conclusion. You may want to provide the key statistics, e.g., t-statistic, z-statistic, p-values, R2 and the adjusted R2, etc.\n",
    "\n",
    "Results and Conclusion: Discuss your results. Focus in particular on the results that are most interesting, surprising, or important. Discuss the consequences or implications. Interpret the results: if the answers are unexpected, then see whether you can find an explanation for them, such as an external factor that your analysis did not account for. You may also want to make prediction for new scenarios.\n",
    "\n",
    "Appendix: Put plots, tables, technical details or other results in appendix if necessary."
   ]
  },
  {
   "cell_type": "markdown",
   "id": "599dcb44",
   "metadata": {},
   "source": [
    "### Presentation"
   ]
  },
  {
   "cell_type": "markdown",
   "id": "e8307c13",
   "metadata": {},
   "source": [
    "Each group should select one or multiple team members to present their projects in class. Each presentation should be no longer than 10 minutes. It is encouraged to use slides. The slide deck should summarize the main points of your project, including motivation, research questions, and results using, using Guy Kawasaki's presentation framework.\n",
    "\n",
    "During the presentations, all students from not-presenting groups should actively ask questions. Each member of the presenting group, not only the presenters, can answer the questions or give comments."
   ]
  },
  {
   "cell_type": "markdown",
   "id": "9f79b023",
   "metadata": {},
   "source": [
    "### Project Submission"
   ]
  },
  {
   "cell_type": "markdown",
   "id": "0a79b67c",
   "metadata": {},
   "source": [
    "The group will submit once via D2L. Your submission should include a Jupyter notebook that includes a project report, Python script, and another zip file that includes the data set and the slides. It is suggested that the project reports should be 500-word maximum, excluding the appendix."
   ]
  }
 ],
 "metadata": {
  "kernelspec": {
   "display_name": "Python 3 (ipykernel)",
   "language": "python",
   "name": "python3"
  },
  "language_info": {
   "codemirror_mode": {
    "name": "ipython",
    "version": 3
   },
   "file_extension": ".py",
   "mimetype": "text/x-python",
   "name": "python",
   "nbconvert_exporter": "python",
   "pygments_lexer": "ipython3",
   "version": "3.9.7"
  }
 },
 "nbformat": 4,
 "nbformat_minor": 5
}
